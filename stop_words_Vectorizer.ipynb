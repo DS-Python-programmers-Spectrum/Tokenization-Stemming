{
 "cells": [
  {
   "cell_type": "code",
   "execution_count": 1,
   "id": "bdefd499-3b59-4461-84e6-9fbba61d6ee5",
   "metadata": {},
   "outputs": [
    {
     "name": "stderr",
     "output_type": "stream",
     "text": [
      "[nltk_data] Downloading package punkt to\n",
      "[nltk_data]     C:\\Users\\PYTHON\\AppData\\Roaming\\nltk_data...\n",
      "[nltk_data]   Package punkt is already up-to-date!\n",
      "[nltk_data] Downloading package stopwords to\n",
      "[nltk_data]     C:\\Users\\PYTHON\\AppData\\Roaming\\nltk_data...\n",
      "[nltk_data]   Package stopwords is already up-to-date!\n"
     ]
    },
    {
     "name": "stdout",
     "output_type": "stream",
     "text": [
      "['love', 'programming', 'Python']\n"
     ]
    }
   ],
   "source": [
    "import nltk\n",
    "from nltk.corpus import stopwords\n",
    "from nltk.tokenize import word_tokenize\n",
    "\n",
    "# Download stopwords if not already\n",
    "nltk.download('punkt')\n",
    "nltk.download('stopwords')\n",
    "\n",
    "text = \"I love programming in Python\"\n",
    "\n",
    "# Tokenize\n",
    "words = word_tokenize(text)\n",
    "\n",
    "# Remove stopwords\n",
    "filtered = [word for word in words if word.lower() not in stopwords.words('english')]\n",
    "\n",
    "print(filtered)   # Output: ['love', 'programming', 'Python']\n"
   ]
  },
  {
   "cell_type": "code",
   "execution_count": null,
   "id": "f0d70100-6aab-49d7-883a-65b90b31625b",
   "metadata": {},
   "outputs": [],
   "source": []
  }
 ],
 "metadata": {
  "kernelspec": {
   "display_name": "Python 3 (ipykernel)",
   "language": "python",
   "name": "python3"
  },
  "language_info": {
   "codemirror_mode": {
    "name": "ipython",
    "version": 3
   },
   "file_extension": ".py",
   "mimetype": "text/x-python",
   "name": "python",
   "nbconvert_exporter": "python",
   "pygments_lexer": "ipython3",
   "version": "3.12.3"
  }
 },
 "nbformat": 4,
 "nbformat_minor": 5
}
