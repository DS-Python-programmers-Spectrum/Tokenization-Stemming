{
 "cells": [
  {
   "cell_type": "code",
   "execution_count": 2,
   "id": "99640e33-b8f6-4249-8948-22b6bbea2eab",
   "metadata": {},
   "outputs": [
    {
     "name": "stderr",
     "output_type": "stream",
     "text": [
      "[nltk_data] Downloading package wordnet to\n",
      "[nltk_data]     C:\\Users\\PYTHON\\AppData\\Roaming\\nltk_data...\n",
      "[nltk_data]   Package wordnet is already up-to-date!\n",
      "[nltk_data] Downloading package omw-1.4 to\n",
      "[nltk_data]     C:\\Users\\PYTHON\\AppData\\Roaming\\nltk_data...\n"
     ]
    },
    {
     "name": "stdout",
     "output_type": "stream",
     "text": [
      "['running', 'study', 'better', 'car', 'easily']\n",
      "['run']\n",
      "['good']\n"
     ]
    }
   ],
   "source": [
    "import nltk\n",
    "from nltk.stem import WordNetLemmatizer\n",
    "from nltk.corpus import wordnet\n",
    "\n",
    "# Download WordNet if not already\n",
    "nltk.download('wordnet')\n",
    "nltk.download('omw-1.4')\n",
    "\n",
    "lemmatizer = WordNetLemmatizer()\n",
    "\n",
    "words = [\"running\", \"studies\", \"better\", \"cars\", \"easily\"]\n",
    "\n",
    "# Default (assumes noun)\n",
    "print([lemmatizer.lemmatize(w) for w in words])\n",
    "# ['running', 'study', 'better', 'car', 'easily']\n",
    "\n",
    "# With POS tagging (more accurate)\n",
    "print([lemmatizer.lemmatize(\"running\", pos='v')])  # verb → 'run'\n",
    "print([lemmatizer.lemmatize(\"better\", pos='a')])   # adjective → 'good'\n"
   ]
  },
  {
   "cell_type": "code",
   "execution_count": 3,
   "id": "ff7e08cb-11d6-48b1-8693-aa2ef0c8e0ba",
   "metadata": {},
   "outputs": [
    {
     "name": "stdout",
     "output_type": "stream",
     "text": [
      "The → the\n",
      "children → child\n",
      "are → be\n",
      "running → run\n",
      "faster → fast\n",
      "and → and\n",
      "studies → study\n",
      "are → be\n",
      "being → be\n",
      "conducted → conduct\n"
     ]
    }
   ],
   "source": [
    "import spacy\n",
    "\n",
    "# Load English model\n",
    "nlp = spacy.load(\"en_core_web_sm\")\n",
    "\n",
    "doc = nlp(\"The children are running faster and studies are being conducted\")\n",
    "\n",
    "for token in doc:\n",
    "    print(token.text, \"→\", token.lemma_)\n"
   ]
  },
  {
   "cell_type": "code",
   "execution_count": 6,
   "id": "1967815e-e398-47e4-95cb-3d1e42d8d6af",
   "metadata": {},
   "outputs": [
    {
     "name": "stdout",
     "output_type": "stream",
     "text": [
      "I → I\n",
      "ca → can\n",
      "n't → not\n",
      "go → go\n",
      "because → because\n",
      "it → it\n",
      "is → be\n",
      "n't → not\n",
      "allowed → allow\n",
      ". → .\n"
     ]
    }
   ],
   "source": [
    "import spacy\n",
    "\n",
    "nlp = spacy.load(\"en_core_web_sm\")\n",
    "\n",
    "doc = nlp(\"I can't go because it isn't allowed.\")\n",
    "\n",
    "for token in doc:\n",
    "    print(token.text, \"→\", token.lemma_)\n",
    "\n"
   ]
  },
  {
   "cell_type": "code",
   "execution_count": 8,
   "id": "9ebda466-f3cd-47a0-8821-a554b0492833",
   "metadata": {},
   "outputs": [
    {
     "name": "stdout",
     "output_type": "stream",
     "text": [
      "['i', 'can', \"'\", 't', 'go', 'because', 'it', 'isn', \"'\", 't', 'allowed', '.']\n"
     ]
    },
    {
     "name": "stderr",
     "output_type": "stream",
     "text": [
      "C:\\Users\\PYTHON\\anaconda3\\Lib\\site-packages\\transformers\\tokenization_utils_base.py:1601: FutureWarning: `clean_up_tokenization_spaces` was not set. It will be set to `True` by default. This behavior will be depracted in transformers v4.45, and will be then set to `False` by default. For more details check this issue: https://github.com/huggingface/transformers/issues/31884\n",
      "  warnings.warn(\n"
     ]
    }
   ],
   "source": [
    "from transformers import BertTokenizer\n",
    "\n",
    "tokenizer = BertTokenizer.from_pretrained(\"bert-base-uncased\")\n",
    "\n",
    "text = \"I can't go because it isn't allowed.\"\n",
    "tokens = tokenizer.tokenize(text)\n",
    "print(tokens)\n"
   ]
  },
  {
   "cell_type": "code",
   "execution_count": null,
   "id": "e6d9345a-656e-4cf9-88b1-a3e87e7719be",
   "metadata": {},
   "outputs": [],
   "source": [
    "|"
   ]
  }
 ],
 "metadata": {
  "kernelspec": {
   "display_name": "Python 3 (ipykernel)",
   "language": "python",
   "name": "python3"
  },
  "language_info": {
   "codemirror_mode": {
    "name": "ipython",
    "version": 3
   },
   "file_extension": ".py",
   "mimetype": "text/x-python",
   "name": "python",
   "nbconvert_exporter": "python",
   "pygments_lexer": "ipython3",
   "version": "3.12.3"
  }
 },
 "nbformat": 4,
 "nbformat_minor": 5
}
