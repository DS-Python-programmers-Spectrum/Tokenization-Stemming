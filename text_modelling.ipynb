{
 "cells": [
  {
   "cell_type": "code",
   "execution_count": 3,
   "id": "3b4bc10e-5a7c-4361-ba5a-43e8368fdb2a",
   "metadata": {},
   "outputs": [
    {
     "name": "stdout",
     "output_type": "stream",
     "text": [
      "['positive']\n"
     ]
    }
   ],
   "source": [
    "from sklearn.feature_extraction.text import TfidfVectorizer\n",
    "from sklearn.naive_bayes import MultinomialNB\n",
    "\n",
    "# Sample data\n",
    "texts = [\n",
    "    \"I absolutely LOVED the movie!!! It was amazing :)\",\n",
    "    \"The movie was boring and too long.\"\n",
    "]\n",
    "labels = [\"positive\", \"negative\"]\n",
    "\n",
    "# Step 1–6: Vectorization\n",
    "vectorizer = TfidfVectorizer(stop_words='english')\n",
    "X = vectorizer.fit_transform(texts)\n",
    "\n",
    "# Step 7: Model\n",
    "model = MultinomialNB()\n",
    "model.fit(X, labels)\n",
    "\n",
    "# Prediction\n",
    "test = [\"Really amazing film! Loved every second.\"]\n",
    "print(model.predict(vectorizer.transform(test)))  # → ['positive']\n"
   ]
  },
  {
   "cell_type": "code",
   "execution_count": 4,
   "id": "e01561cb-4517-403f-a9c1-6fbd4a5d0783",
   "metadata": {},
   "outputs": [
    {
     "name": "stdout",
     "output_type": "stream",
     "text": [
      "['positive']\n"
     ]
    }
   ],
   "source": []
  },
  {
   "cell_type": "code",
   "execution_count": 5,
   "id": "42b17291-49f1-49d7-80ec-77d6e2d7b926",
   "metadata": {},
   "outputs": [
    {
     "name": "stdout",
     "output_type": "stream",
     "text": [
      "Sentiment Prediction: positive\n",
      "Spam Prediction: spam\n"
     ]
    }
   ],
   "source": [
    "# ===== Basic NLP Demo =====\n",
    "# Libraries\n",
    "from sklearn.feature_extraction.text import TfidfVectorizer\n",
    "from sklearn.naive_bayes import MultinomialNB\n",
    "from sklearn.metrics.pairwise import cosine_similarity\n",
    "import numpy as np\n",
    "\n",
    "# ----------------------------------------\n",
    "# 1) Sentiment Analysis (Positive / Negative)\n",
    "# ----------------------------------------\n",
    "sentences = [\n",
    "    \"I loved the movie, it was amazing!\",     # positive\n",
    "    \"The movie was boring and too long.\"      # negative\n",
    "]\n",
    "labels = [\"positive\", \"negative\"]\n",
    "\n",
    "# Vectorize\n",
    "tfidf = TfidfVectorizer(stop_words='english')\n",
    "X = tfidf.fit_transform(sentences)\n",
    "\n",
    "# Train model\n",
    "clf = MultinomialNB()\n",
    "clf.fit(X, labels)\n",
    "\n",
    "# Predict\n",
    "test_sentence = [\"Really amazing film! Loved every second.\"]\n",
    "pred = clf.predict(tfidf.transform(test_sentence))\n",
    "print(\"Sentiment Prediction:\", pred[0])   # Expected: positive\n",
    "\n",
    "# ----------------------------------------\n",
    "# 2) Spam Detection (Spam / Ham)\n",
    "# ----------------------------------------\n",
    "emails = [\n",
    "    \"Congratulations! You’ve won a free ticket. Click here now!\",  # spam\n",
    "    \"Hi John, let's meet for lunch tomorrow.\",                     # ham\n",
    "]\n",
    "labels = [\"spam\", \"ham\"]\n",
    "\n",
    "X2 = tfidf.fit_transform(emails)\n",
    "clf2 = MultinomialNB()\n",
    "clf2.fit(X2, labels)\n",
    "\n",
    "test_email = [\"Win a free iPhone by clicking this link!\"]\n",
    "pred2 = clf2.predict(tfidf.transform(test_email))\n",
    "print(\"Spam Prediction:\", pred2[0]) "
   ]
  },
  {
   "cell_type": "code",
   "execution_count": 6,
   "id": "ac1b6d7d-c5a3-44fa-93c7-910d71219e16",
   "metadata": {},
   "outputs": [
    {
     "name": "stdout",
     "output_type": "stream",
     "text": [
      "Cosine similarity with 2nd text: 0.224324998974933\n",
      "Cosine similarity with 3rd text: 0.0\n"
     ]
    }
   ],
   "source": [
    "# ----------------------------------------\n",
    "texts = [\n",
    "    \"Machine learning is fun.\",\n",
    "    \"Deep learning is enjoyable.\",\n",
    "    \"I love pizza and pasta.\"\n",
    "]\n",
    "\n",
    "X3 = tfidf.fit_transform(texts)\n",
    "# Compute cosine similarity between first and others\n",
    "cos_sim = cosine_similarity(X3[0], X3[1:])  # compare text[0] with others\n",
    "print(\"Cosine similarity with 2nd text:\", cos_sim[0][0])  # expect higher\n",
    "print(\"Cosine similarity with 3rd text:\", cos_sim[0][1])  # expect lower\n",
    "\n"
   ]
  },
  {
   "cell_type": "code",
   "execution_count": null,
   "id": "ee0033a1-b6fe-422d-9077-b4c08b3b7a9b",
   "metadata": {},
   "outputs": [],
   "source": []
  }
 ],
 "metadata": {
  "kernelspec": {
   "display_name": "Python 3 (ipykernel)",
   "language": "python",
   "name": "python3"
  },
  "language_info": {
   "codemirror_mode": {
    "name": "ipython",
    "version": 3
   },
   "file_extension": ".py",
   "mimetype": "text/x-python",
   "name": "python",
   "nbconvert_exporter": "python",
   "pygments_lexer": "ipython3",
   "version": "3.12.3"
  }
 },
 "nbformat": 4,
 "nbformat_minor": 5
}
