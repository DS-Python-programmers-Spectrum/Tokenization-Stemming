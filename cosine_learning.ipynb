{
 "cells": [
  {
   "cell_type": "code",
   "execution_count": 2,
   "id": "d8c4b4b2-b043-4d6f-8c5b-51e1bb290973",
   "metadata": {},
   "outputs": [
    {
     "name": "stdout",
     "output_type": "stream",
     "text": [
      "[[1.         0.66666667]\n",
      " [0.66666667 1.        ]]\n"
     ]
    }
   ],
   "source": [
    "from sklearn.feature_extraction.text import CountVectorizer\n",
    "from sklearn.metrics.pairwise import cosine_similarity\n",
    "\n",
    "docs = [\"I love machine learning\", \"I love deep learning\"]\n",
    "\n",
    "# Convert text to vectors\n",
    "vectorizer = CountVectorizer().fit_transform(docs)\n",
    "vectors = vectorizer.toarray()\n",
    "\n",
    "# Compute cosine similarity\n",
    "similarity = cosine_similarity(vectors)\n",
    "print(similarity)\n"
   ]
  },
  {
   "cell_type": "code",
   "execution_count": 3,
   "id": "14af2a33-dba8-4eae-bce1-a788e0013bc6",
   "metadata": {},
   "outputs": [
    {
     "name": "stdout",
     "output_type": "stream",
     "text": [
      "Cosine Similarity Score: 0.5426095162342934\n"
     ]
    }
   ],
   "source": [
    "from sklearn.metrics.pairwise import cosine_similarity\n",
    "import numpy as np\n",
    "\n",
    "# Two example vectors\n",
    "A = np.array([[2, 3, 1]])\n",
    "B = np.array([[4, 0, 5]])\n",
    "\n",
    "# Compute cosine similarity (returns a matrix)\n",
    "score = cosine_similarity(A, B)[0][0]\n",
    "\n",
    "print(\"Cosine Similarity Score:\", score)\n"
   ]
  },
  {
   "cell_type": "code",
   "execution_count": 4,
   "id": "606dc8e2-626c-4f58-b435-f39bb0c60b57",
   "metadata": {},
   "outputs": [
    {
     "name": "stdout",
     "output_type": "stream",
     "text": [
      "Sentiment Prediction: positive\n",
      "Spam Prediction: spam\n",
      "Cosine similarity with 2nd text: 0.224324998974933\n",
      "Cosine similarity with 3rd text: 0.0\n"
     ]
    }
   ],
   "source": [
    "# ===== Basic NLP Demo =====\n",
    "# Libraries\n",
    "from sklearn.feature_extraction.text import TfidfVectorizer\n",
    "from sklearn.naive_bayes import MultinomialNB\n",
    "from sklearn.metrics.pairwise import cosine_similarity\n",
    "import numpy as np\n",
    "\n",
    "# ----------------------------------------\n",
    "# 1) Sentiment Analysis (Positive / Negative)\n",
    "# ----------------------------------------\n",
    "sentences = [\n",
    "    \"I loved the movie, it was amazing!\",     # positive\n",
    "    \"The movie was boring and too long.\"      # negative\n",
    "]\n",
    "labels = [\"positive\", \"negative\"]\n",
    "\n",
    "# Vectorize\n",
    "tfidf = TfidfVectorizer(stop_words='english')\n",
    "X = tfidf.fit_transform(sentences)\n",
    "\n",
    "# Train model\n",
    "clf = MultinomialNB()\n",
    "clf.fit(X, labels)\n",
    "\n",
    "# Predict\n",
    "test_sentence = [\"Really amazing film! Loved every second.\"]\n",
    "pred = clf.predict(tfidf.transform(test_sentence))\n",
    "print(\"Sentiment Prediction:\", pred[0])   # Expected: positive\n",
    "\n",
    "# ----------------------------------------\n",
    "# 2) Spam Detection (Spam / Ham)\n",
    "# ----------------------------------------\n",
    "emails = [\n",
    "    \"Congratulations! You’ve won a free ticket. Click here now!\",  # spam\n",
    "    \"Hi John, let's meet for lunch tomorrow.\",                     # ham\n",
    "]\n",
    "labels = [\"spam\", \"ham\"]\n",
    "\n",
    "X2 = tfidf.fit_transform(emails)\n",
    "clf2 = MultinomialNB()\n",
    "clf2.fit(X2, labels)\n",
    "\n",
    "test_email = [\"Win a free iPhone by clicking this link!\"]\n",
    "pred2 = clf2.predict(tfidf.transform(test_email))\n",
    "print(\"Spam Prediction:\", pred2[0])   # Expected: spam\n",
    "\n",
    "# ----------------------------------------\n",
    "# 3) Text Similarity (Cosine Similarity)\n",
    "# ----------------------------------------\n",
    "texts = [\n",
    "    \"Machine learning is fun.\",\n",
    "    \"Deep learning is enjoyable.\",\n",
    "    \"I love pizza and pasta.\"\n",
    "]\n",
    "\n",
    "X3 = tfidf.fit_transform(texts)\n",
    "# Compute cosine similarity between first and others\n",
    "cos_sim = cosine_similarity(X3[0], X3[1:])  # compare text[0] with others\n",
    "print(\"Cosine similarity with 2nd text:\", cos_sim[0][0])  # expect higher\n",
    "print(\"Cosine similarity with 3rd text:\", cos_sim[0][1])  # expect lower\n"
   ]
  },
  {
   "cell_type": "code",
   "execution_count": null,
   "id": "c62d58a8-d7f1-4aee-b25d-05f1df8f80fd",
   "metadata": {},
   "outputs": [],
   "source": []
  }
 ],
 "metadata": {
  "kernelspec": {
   "display_name": "Python 3 (ipykernel)",
   "language": "python",
   "name": "python3"
  },
  "language_info": {
   "codemirror_mode": {
    "name": "ipython",
    "version": 3
   },
   "file_extension": ".py",
   "mimetype": "text/x-python",
   "name": "python",
   "nbconvert_exporter": "python",
   "pygments_lexer": "ipython3",
   "version": "3.12.3"
  }
 },
 "nbformat": 4,
 "nbformat_minor": 5
}
