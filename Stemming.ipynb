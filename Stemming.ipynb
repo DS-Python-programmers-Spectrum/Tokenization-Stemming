{
 "cells": [
  {
   "cell_type": "code",
   "execution_count": 6,
   "id": "6d6269a2-079a-4773-bcb1-f591e900ef00",
   "metadata": {},
   "outputs": [
    {
     "name": "stdout",
     "output_type": "stream",
     "text": [
      "['play', 'play', 'play', 'studi', 'studi', 'better']\n"
     ]
    }
   ],
   "source": [
    "from nltk.stem import PorterStemmer\n",
    "\n",
    "stemmer = PorterStemmer()\n",
    "\n",
    "words = [\"playing\", \"played\", \"plays\", \"studies\", \"studying\", \"better\"]\n",
    "\n",
    "stems = [stemmer.stem(word) for word in words]\n",
    "print(stems)\n"
   ]
  },
  {
   "cell_type": "code",
   "execution_count": 7,
   "id": "078832a8-ff39-4c39-bb35-19e024da1bce",
   "metadata": {},
   "outputs": [
    {
     "name": "stdout",
     "output_type": "stream",
     "text": [
      "['play', 'play', 'play', 'study', 'study', 'bet', 'run', 'maxim', 'rat']\n"
     ]
    }
   ],
   "source": [
    "from nltk.stem import LancasterStemmer\n",
    "\n",
    "# Create stemmer object\n",
    "lancaster = LancasterStemmer()\n",
    "\n",
    "words = [\"playing\", \"played\", \"plays\", \"studies\", \"studying\", \"better\", \"running\", \"maximum\", \"rational\"]\n",
    "\n",
    "stems = [lancaster.stem(word) for word in words]\n",
    "print(stems)\n"
   ]
  },
  {
   "cell_type": "code",
   "execution_count": null,
   "id": "7230e036-ca6a-4dd1-9ae3-7371408fc9a6",
   "metadata": {},
   "outputs": [],
   "source": []
  }
 ],
 "metadata": {
  "kernelspec": {
   "display_name": "Python 3 (ipykernel)",
   "language": "python",
   "name": "python3"
  },
  "language_info": {
   "codemirror_mode": {
    "name": "ipython",
    "version": 3
   },
   "file_extension": ".py",
   "mimetype": "text/x-python",
   "name": "python",
   "nbconvert_exporter": "python",
   "pygments_lexer": "ipython3",
   "version": "3.12.3"
  }
 },
 "nbformat": 4,
 "nbformat_minor": 5
}
